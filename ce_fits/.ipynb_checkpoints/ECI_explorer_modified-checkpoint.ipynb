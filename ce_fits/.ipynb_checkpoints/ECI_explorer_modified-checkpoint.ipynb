{
 "cells": [
  {
   "cell_type": "code",
   "execution_count": 1,
   "id": "83645c3e",
   "metadata": {},
   "outputs": [
    {
     "name": "stdout",
     "output_type": "stream",
     "text": [
      "Populating the interactive namespace from numpy and matplotlib\n"
     ]
    }
   ],
   "source": [
    "get_ipython().run_line_magic('pylab', 'inline')"
   ]
  },
  {
   "cell_type": "code",
   "execution_count": 2,
   "id": "b85b0ed4",
   "metadata": {},
   "outputs": [],
   "source": [
    "#from tinc import *\n",
    "import tinc\n",
    "import os\n",
    "import numpy as np"
   ]
  },
  {
   "cell_type": "code",
   "execution_count": 3,
   "id": "08a42d01",
   "metadata": {},
   "outputs": [
    {
     "data": {
      "text/html": [
       "<style>.container { width:100% !important; }</style>"
      ],
      "text/plain": [
       "<IPython.core.display.HTML object>"
      ]
     },
     "metadata": {},
     "output_type": "display_data"
    }
   ],
   "source": [
    "#Enlarge the jupyter notebook so that plots are easier to see \n",
    "from IPython.core.display import display, HTML\n",
    "display(HTML(\"<style>.container { width:100% !important; }</style>\"))"
   ]
  },
  {
   "cell_type": "code",
   "execution_count": 4,
   "id": "a054d3ed",
   "metadata": {},
   "outputs": [],
   "source": [
    "A = tinc.Parameter(\"A\", \"weighting\")\n",
    "A.values = np.linspace(.1,2,3)\n",
    "\n",
    "B = tinc.Parameter(\"B\", \"weighting\")\n",
    "B.values = np.linspace(0,2,3)\n",
    "\n",
    "kT = tinc.Parameter(\"kT\", \"weighting\")\n",
    "kT.values = np.linspace(.01,.1,3)\n",
    "\n",
    "\n",
    "graph_buffer = tinc.DiskBufferImage(\"graph\", \"out.png\", \"graph_output\")"
   ]
  },
  {
   "cell_type": "code",
   "execution_count": 5,
   "id": "14891f8d",
   "metadata": {},
   "outputs": [
    {
     "name": "stdout",
     "output_type": "stream",
     "text": [
      "Validating json with /home/derick/anaconda3/envs/py37/lib/python3.7/site-packages/tinc/tinc_cache_schema.json\n"
     ]
    }
   ],
   "source": [
    "ps = tinc.ParameterSpace(\"ps\")\n",
    "ps.register_parameters([A, B, kT])\n",
    "ps.enable_cache()"
   ]
  },
  {
   "cell_type": "code",
   "execution_count": 6,
   "id": "f83005e5",
   "metadata": {},
   "outputs": [],
   "source": [
    "def make_graph(A, B, kT):\n",
    "    \n",
    "    #hard-coding this now, change later\n",
    "    ce_fits_dir = '/media/derick/DeoResearch/experiments/rocksalt_shared_ZrN_casm/ce_fits'\n",
    "    prefix = 'rocksalt3_ZrN_casm_'\n",
    "    \n",
    "    fit_dir = 'A_%s_B_%s_kt_%s' % ((A), (B), (kT))\n",
    "\n",
    "    \n",
    "    image_name = prefix + fit_dir + '.png'\n",
    "    #figure(figsize=[18.5,10])\n",
    "    #close() # Avoid showing as an additional graph in jupyter\n",
    "    \n",
    "    #Path to pre-made images, using scripts from vasp_scripts\n",
    "    image_path = os.path.join(ce_fits_dir, fit_dir, image_name)\n",
    "    file = open(image_path, 'rb')\n",
    "    return file.read()\n",
    "\n",
    "def value_changed(value):\n",
    "    imagedata = ps.run_process(make_graph)\n",
    "    graph_buffer.data = imagedata\n",
    "\n",
    "A.register_callback(value_changed)\n",
    "B.register_callback(value_changed)\n",
    "kT.register_callback(value_changed)"
   ]
  },
  {
   "cell_type": "code",
   "execution_count": 7,
   "id": "923caa44",
   "metadata": {},
   "outputs": [
    {
     "name": "stdout",
     "output_type": "stream",
     "text": [
      "[0.1  1.05 2.  ] [0. 1. 2.] [0.01  0.055 0.1  ]\n"
     ]
    }
   ],
   "source": [
    "print(A.values,B.values,kT.values)"
   ]
  },
  {
   "cell_type": "markdown",
   "id": "5547b793",
   "metadata": {},
   "source": [
    "#currently not using this display approach\n",
    "from ipywidgets import GridspecLayout\n",
    "grid = GridspecLayout(3, 2, height='300px')\n",
    "grid[:, 1] = graph_buffer.interactive_widget()\n",
    "grid[0, 0] = A.interactive_widget()\n",
    "grid[1, 0] = B.interactive_widget()\n",
    "grid[2, 0] = kT.interactive_widget()\n",
    "grid\n"
   ]
  },
  {
   "cell_type": "code",
   "execution_count": 8,
   "id": "3d2bc4c3",
   "metadata": {},
   "outputs": [
    {
     "data": {
      "application/vnd.jupyter.widget-view+json": {
       "model_id": "e45cda706eaa4744b2770d5bb75a2128",
       "version_major": 2,
       "version_minor": 0
      },
      "text/plain": [
       "VBox(children=(interactive(children=(FloatSlider(value=0.1, description='A', max=2.0, min=0.1, readout_format=…"
      ]
     },
     "metadata": {},
     "output_type": "display_data"
    }
   ],
   "source": [
    "from ipywidgets import Button, HBox, VBox\n",
    "\n",
    "box = VBox([A.interactive_widget(), B.interactive_widget(), kT.interactive_widget(), graph_buffer.interactive_widget()])\n",
    "graph_buffer._interactive_widget.width = \"100%\"\n",
    "box"
   ]
  }
 ],
 "metadata": {
  "kernelspec": {
   "display_name": "Python 3",
   "language": "python",
   "name": "python3"
  },
  "language_info": {
   "codemirror_mode": {
    "name": "ipython",
    "version": 3
   },
   "file_extension": ".py",
   "mimetype": "text/x-python",
   "name": "python",
   "nbconvert_exporter": "python",
   "pygments_lexer": "ipython3",
   "version": "3.7.10"
  }
 },
 "nbformat": 4,
 "nbformat_minor": 5
}
