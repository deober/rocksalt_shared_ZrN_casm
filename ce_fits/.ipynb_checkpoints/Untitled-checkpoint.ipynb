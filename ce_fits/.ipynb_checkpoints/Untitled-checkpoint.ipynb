{
 "cells": [
  {
   "cell_type": "code",
   "execution_count": 1,
   "id": "2e6cbe1c-f698-4bf4-84fc-7dbb77783e92",
   "metadata": {},
   "outputs": [],
   "source": [
    "import sys\n",
    "import numpy as np\n",
    "from sklearn import linear_model \n",
    "from sklearn.linear_model import LinearRegression\n",
    "from sklearn.model_selection import train_test_split\n",
    "from sklearn.model_selection import cross_val_score\n",
    "import matplotlib.pyplot as plt"
   ]
  },
  {
   "cell_type": "markdown",
   "id": "bcd90f05-080b-4137-8239-d9c2cb7de8e9",
   "metadata": {},
   "source": [
    "Use Casm to generate files containing the correlation functions as well as the formation energies.\n",
    "Generate correlation functions with: \n",
    "\n",
    "`casm query -k corr -o correlations.txt`\n",
    "\n",
    "Generate formation energies with:\n",
    "\n",
    "`casm query -k formation_energy -o formation_energies.txt`\n"
   ]
  },
  {
   "cell_type": "code",
   "execution_count": 2,
   "id": "bd960f23-a64c-4c6c-a36f-9a8a06a9f40b",
   "metadata": {},
   "outputs": [],
   "source": [
    "correlation_matrix_file = 'correlations.txt' \n",
    "formation_energies_file = 'formation_energies.txt' "
   ]
  },
  {
   "cell_type": "markdown",
   "id": "e97012ab-effd-4205-b2dd-dd9bc5295a73",
   "metadata": {},
   "source": [
    "Read from the data files, and remove SCEL indices and selection status columns"
   ]
  },
  {
   "cell_type": "code",
   "execution_count": 3,
   "id": "e5f50200-8b49-4113-a38d-26eb82e63bd1",
   "metadata": {},
   "outputs": [
    {
     "name": "stdout",
     "output_type": "stream",
     "text": [
      "(627, 252)\n"
     ]
    }
   ],
   "source": [
    "x_raw = np.genfromtxt(correlation_matrix_file, skip_header=1) #rows are SCELs columns are each correlation function\n",
    "y_raw = np.genfromtxt(formation_energies_file, skip_header=1) #a row of energies\n",
    "X = x_raw[:, 2:-1]     #The correlation matrix: each row corresponds to one SCEL\n",
    "y = y_raw[:, 2]        #An array of energies corresponding to each SCEL\n",
    "\n",
    "column_select = list(range(0,10)) + list(range(23,33)) + list(range(140,150))\n",
    "x_downsample = X#[:,column_select]\n",
    "print(x_downsample.shape)\n"
   ]
  },
  {
   "cell_type": "markdown",
   "id": "33fba4d5-04c4-4bca-88f8-1324e22e449d",
   "metadata": {},
   "source": [
    "Perform a k-fold cross validation, and display the score. This approach does not shuffle SCEL's, but that will be implemented in the future.\n",
    "\n",
    "This uses R squared scoring, though other scoring metrics for regression are possible.\n",
    "The full list: https://scikit-learn.org/stable/modules/model_evaluation.html\n"
   ]
  },
  {
   "cell_type": "code",
   "execution_count": 4,
   "id": "0f9704b9-c02f-4eb5-adcd-8df6562f6058",
   "metadata": {},
   "outputs": [],
   "source": [
    "kfold=10\n",
    "scores = cross_val_score(LinearRegression(), x_downsample, y, scoring='r2', cv=kfold)\n",
    "#include rms\n",
    "#can pass cross val. generator to cv"
   ]
  },
  {
   "cell_type": "markdown",
   "id": "1a25d445-be21-4c64-9aa9-d2e7f3f4e854",
   "metadata": {},
   "source": [
    "Now perform the fit using Least squares on the entire dataset and display the R squared score as well as the ECI"
   ]
  },
  {
   "cell_type": "code",
   "execution_count": 5,
   "id": "8589c5a4-411f-42f3-acb5-6033b53732a2",
   "metadata": {},
   "outputs": [
    {
     "name": "stdout",
     "output_type": "stream",
     "text": [
      "The Cross Validation Score for 10-fold fitting across 627 SCELs is\n",
      "\n",
      "[-2.84999544e+08 -1.07015855e+10 -2.73431505e+10 -1.37506759e+10\n",
      " -2.00681832e+09  7.93326102e-01 -1.15158848e+09 -7.91164635e+07\n",
      "  9.09442618e-01 -1.08801970e+11]\n",
      "\n",
      "\n",
      "---------------------------------------------------------------\n",
      "\n",
      "\n",
      "(627, 252)\n",
      "252\n"
     ]
    },
    {
     "data": {
      "image/png": "[encoded data removed]",
      "text/plain": [
       "<Figure size 432x288 with 1 Axes>"
      ]
     },
     "metadata": {
      "needs_background": "light"
     },
     "output_type": "display_data"
    },
    {
     "name": "stdout",
     "output_type": "stream",
     "text": [
      "ECIs:\n",
      "[ 5.47681063e-03 -1.02991037e+04 -9.25315583e+04  1.61276994e+04\n",
      "  4.91717677e+04  4.39749155e+04 -4.24989730e+04 -1.23835161e+04\n",
      "  1.38072018e+04 -1.40770566e+04  6.01332404e+04  1.41648519e+04\n",
      "  2.33979201e-02  5.21840416e-02 -4.36290632e-02  2.17937076e-02\n",
      " -1.13891325e-02 -4.29182508e-02  1.00686932e-02  3.51469015e-03\n",
      "  8.82121008e-03  1.25161518e-02  7.21770402e-04  4.37436164e+04\n",
      "  1.80567203e+04  2.78462063e+04 -7.72863886e+04  6.10887271e+03\n",
      " -6.83347901e+04  1.41502662e+04  2.13897762e+04 -2.98827953e+04\n",
      "  5.69873794e+04  8.37826127e+03 -4.65054881e+04  1.18949299e+05\n",
      " -6.55837563e+04 -8.63022545e+04 -2.47669142e+04  1.38311580e+05\n",
      "  1.18228163e+04 -2.77587273e+04 -1.81784973e+02 -7.82716942e+04\n",
      " -9.18241614e+03 -9.79599642e+04  1.01141326e+05 -2.81912850e+04\n",
      "  8.30084430e+04  2.94535426e+04 -2.55810070e+04 -6.36097322e+04\n",
      "  3.09907644e+04  1.34728142e+04 -3.21466478e+04  1.25647403e+03\n",
      " -7.97598806e+04 -1.42797124e+04 -1.31535177e+05 -1.11650578e+05\n",
      "  8.31090347e+04  7.30133914e+04 -1.06073329e+05  5.93898720e+03\n",
      " -9.70321060e+03  5.12912606e+03  1.42586461e+04 -9.13025326e+04\n",
      "  2.81542182e+04  4.41015844e+04 -4.25005748e+04 -7.08807796e+04\n",
      "  8.02551037e+04  4.90411160e+04 -8.39285966e+04  1.29720185e+04\n",
      " -4.37698240e+04 -1.13313203e+05 -1.28542387e+05  9.99193419e+04\n",
      " -8.53393368e+03  1.56684087e+05  8.48924657e+04  6.86893882e+04\n",
      "  1.19247363e+05 -3.12443309e+04  1.55336677e+03 -1.31209406e+05\n",
      "  5.43127002e+04  8.00043264e+04 -2.27732687e+04  9.86357120e+04\n",
      "  1.40919943e+04 -2.02899544e+03 -1.40621634e+04  3.86772724e+03\n",
      " -1.02567044e+02  4.63714906e+04 -3.74858493e+04 -2.34542924e+04\n",
      " -1.61191378e+04  3.32733407e+04  9.62121387e+04  1.49382889e+04\n",
      "  1.16204568e+05  1.50232449e+04  5.58312646e+04  1.08625576e+04\n",
      "  2.85262439e+04 -5.90740982e+04  1.40622367e+04 -1.03710881e-02\n",
      "  6.19666821e-02 -1.40919911e+04 -1.36185951e+05 -2.81417814e+04\n",
      " -5.70886986e+04 -1.41648218e+04  1.41796590e+04  2.84875344e+04\n",
      "  6.44464639e+03 -2.91637279e+04  4.41262212e+04 -6.28099371e+03\n",
      "  5.94555280e+04  3.55355040e+04  6.28123070e+03  1.16653015e+04\n",
      "  2.88081307e+04  7.66397964e-02 -5.30924000e+04 -1.26442660e+04\n",
      " -3.55355687e+04 -1.88908530e+04 -6.53881157e+04 -1.12208360e-01\n",
      "  5.30923589e+04 -4.68113001e+04 -1.03010669e-01 -3.04455467e+03\n",
      "  1.69561954e+04  1.41757634e+04 -2.99641929e+03  5.00536873e+02\n",
      "  2.37039021e+04 -1.00076682e+03 -2.33000687e+04  3.27479564e-01\n",
      " -4.99153777e+03  9.98343933e+03 -5.43027814e-02  5.00539356e+02\n",
      " -4.24830186e+04 -7.70323489e+03  1.95179484e+03 -2.49564598e+03\n",
      "  3.52807797e+04 -1.01180413e+05 -1.61934234e+04 -3.22340404e+04\n",
      "  2.91748347e+04  1.12384349e+04 -1.39848364e+04  4.99163927e+03\n",
      "  2.62736441e+04 -1.61288277e+04  3.27662594e+04  5.86364392e+04\n",
      "  1.25017071e+04  9.97523817e+02  5.00429592e+02  2.74616879e+03\n",
      "  2.19409918e+03 -2.62734100e+04 -1.24795962e+03 -1.08631238e-01\n",
      " -2.13908016e+04  2.65276837e+04 -3.39126202e+04 -1.89085018e+04\n",
      "  2.65482888e+04  6.07986318e-02 -1.79558078e-01  1.46437884e+04\n",
      "  2.70361564e+04  7.20481613e-02 -2.97355051e+03  2.91957275e+04\n",
      " -1.17393019e+04  1.78400644e+04 -1.00801833e+04  2.89207431e+04\n",
      "  6.72681323e+04 -3.56681208e+04 -2.34288772e+04 -5.49252170e+03\n",
      " -1.00802304e+04 -3.17653404e+04 -4.85560709e+04  7.27025432e-02\n",
      "  5.49220087e+03  3.97760302e+04 -1.69560244e+04  5.00471105e+02\n",
      " -5.00532200e+02 -3.47846318e+04  1.00080927e+03  1.69563075e+04\n",
      "  1.69561944e+04 -5.00483342e+02  1.69562723e+04 -1.25914897e+03\n",
      " -3.47845424e+04  1.78284129e+04 -2.98031524e-01 -2.89208775e+04\n",
      " -1.54943263e+03  3.47846822e+04  1.69563515e+04 -5.00100463e+02\n",
      "  8.38085312e+03 -8.16252362e-02 -2.74606054e+03 -1.56967839e+04\n",
      " -2.91347187e-01 -1.69561979e+04  1.69561245e+04  8.68648177e-02\n",
      "  3.14067030e+04 -3.30209218e+04  1.51924093e-01 -3.30207270e+04\n",
      " -6.74691595e+03 -1.07989605e-01  3.30209080e+04 -5.07291469e-02\n",
      "  2.74603656e+03  2.62735959e+04 -4.82668917e-03 -1.19643103e+04\n",
      "  6.74712331e+03  1.51926222e+04  8.11822524e-02 -1.22395035e+04\n",
      " -2.62737367e+04 -1.35786687e+04 -1.78280718e+04  1.20323864e-01\n",
      "  1.19644796e+04  1.78282188e+04  2.74617244e+03  3.12826219e-02]\n",
      "Intercept\n",
      "0.0\n",
      "Full fit score:\n",
      "0.9838052564705555\n",
      "Difference\n"
     ]
    },
    {
     "ename": "TypeError",
     "evalue": "predict() missing 1 required positional argument: 'X'",
     "output_type": "error",
     "traceback": [
      "\u001b[0;31m---------------------------------------------------------------------------\u001b[0m",
      "\u001b[0;31mTypeError\u001b[0m                                 Traceback (most recent call last)",
      "\u001b[0;32m<ipython-input-5-eda83c269010>\u001b[0m in \u001b[0;36m<module>\u001b[0;34m\u001b[0m\n\u001b[1;32m     17\u001b[0m \u001b[0mprint\u001b[0m\u001b[0;34m(\u001b[0m\u001b[0mreg\u001b[0m\u001b[0;34m.\u001b[0m\u001b[0mscore\u001b[0m\u001b[0;34m(\u001b[0m\u001b[0mx_downsample\u001b[0m\u001b[0;34m,\u001b[0m\u001b[0my\u001b[0m\u001b[0;34m)\u001b[0m\u001b[0;34m)\u001b[0m\u001b[0;34m\u001b[0m\u001b[0;34m\u001b[0m\u001b[0m\n\u001b[1;32m     18\u001b[0m \u001b[0mprint\u001b[0m\u001b[0;34m(\u001b[0m\u001b[0;34m\"Difference\"\u001b[0m\u001b[0;34m)\u001b[0m\u001b[0;34m\u001b[0m\u001b[0;34m\u001b[0m\u001b[0m\n\u001b[0;32m---> 19\u001b[0;31m \u001b[0mprint\u001b[0m\u001b[0;34m(\u001b[0m\u001b[0my\u001b[0m \u001b[0;34m-\u001b[0m \u001b[0mreg\u001b[0m\u001b[0;34m.\u001b[0m\u001b[0mpredict\u001b[0m\u001b[0;34m(\u001b[0m\u001b[0;34m)\u001b[0m\u001b[0;34m)\u001b[0m\u001b[0;34m\u001b[0m\u001b[0;34m\u001b[0m\u001b[0m\n\u001b[0m",
      "\u001b[0;31mTypeError\u001b[0m: predict() missing 1 required positional argument: 'X'"
     ]
    }
   ],
   "source": [
    "print(\"The Cross Validation Score for %d-fold fitting across %d SCELs is\\n\" % (kfold, len(X)))\n",
    "print(scores)\n",
    "print('\\n\\n---------------------------------------------------------------\\n\\n')\n",
    "\n",
    "print(x_downsample.shape)\n",
    "print(np.linalg.matrix_rank(x_downsample))\n",
    "(u, s, vh) = np.linalg.svd(x_downsample)\n",
    "plt.scatter(range(len(s)), np.log10(s))\n",
    "plt.show()\n",
    "\n",
    "reg = LinearRegression(fit_intercept=False).fit(x_downsample,y)\n",
    "print(\"ECIs:\")          #plot next to axis of indices\n",
    "print(reg.coef_) #these ECIs \n",
    "print(\"Intercept\")\n",
    "print(reg.intercept_)\n",
    "print('Full fit score:')\n",
    "print(reg.score(x_downsample,y))\n",
    "print(\"Difference\")\n",
    "print(y - reg.predict())"
   ]
  },
  {
   "cell_type": "code",
   "execution_count": null,
   "id": "0777ae2b-fd58-4cf8-838a-938648063cbd",
   "metadata": {},
   "outputs": [],
   "source": []
  }
 ],
 "metadata": {
  "kernelspec": {
   "display_name": "Python 3",
   "language": "python",
   "name": "python3"
  },
  "language_info": {
   "codemirror_mode": {
    "name": "ipython",
    "version": 3
   },
   "file_extension": ".py",
   "mimetype": "text/x-python",
   "name": "python",
   "nbconvert_exporter": "python",
   "pygments_lexer": "ipython3",
   "version": "3.7.10"
  }
 },
 "nbformat": 4,
 "nbformat_minor": 5
}
