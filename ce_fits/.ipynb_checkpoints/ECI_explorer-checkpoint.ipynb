{
 "cells": [
  {
   "cell_type": "code",
   "execution_count": 1,
   "metadata": {},
   "outputs": [
    {
     "name": "stdout",
     "output_type": "stream",
     "text": [
      "Populating the interactive namespace from numpy and matplotlib\n"
     ]
    }
   ],
   "source": [
    "%pylab inline"
   ]
  },
  {
   "cell_type": "code",
   "execution_count": 2,
   "metadata": {},
   "outputs": [],
   "source": [
    "from tinc import *\n",
    "import os\n",
    "import numpy as np"
   ]
  },
  {
   "cell_type": "code",
   "execution_count": 3,
   "metadata": {},
   "outputs": [],
   "source": [
    "\n",
    "A = Parameter(\"A\", \"weighting\")\n",
    "A.values = np.linspace(.1,2,3)\n",
    "\n",
    "#A.ids = [\"dir1\", \"dir2\", \"dir3\", \"dir4\", \"dir5\"]\n",
    "\n",
    "B = Parameter(\"B\", \"weighting\")\n",
    "B.values = np.linspace(0,2,3)\n",
    "\n",
    "C = Parameter(\"C\", \"weighting\")\n",
    "C.values = np.linspace(.01,.1,3)\n",
    "\n",
    "graph_buffer = DiskBufferImage(\"graph\", \"out.png\", \"graph_output\")\n",
    "\n",
    "\n"
   ]
  },
  {
   "cell_type": "code",
   "execution_count": 4,
   "metadata": {},
   "outputs": [
    {
     "name": "stdout",
     "output_type": "stream",
     "text": [
      "Validating json with /home/derick/anaconda3/envs/py37/lib/python3.7/site-packages/tinc/tinc_cache_schema.json\n"
     ]
    }
   ],
   "source": [
    "ps = ParameterSpace(\"ps\")\n",
    "ps.register_parameters([A, B, C])\n",
    "ps.enable_cache()"
   ]
  },
  {
   "cell_type": "code",
   "execution_count": 5,
   "metadata": {},
   "outputs": [],
   "source": [
    "def make_graph(A, B, C):\n",
    "    #print(\"Parameter value \" + str(parameter_value))\n",
    "    #data = [random.random() * C for i in range(int(A))]\n",
    "    \n",
    "    #hard-coding this now, change later\n",
    "    ce_fits_dir = '/media/derick/DeoResearch/experiments/rocksalt_shared_ZrN_casm/ce_fits'\n",
    "    prefix = 'rocksalt3_ZrN_casm_'\n",
    "    \n",
    "    \n",
    "    \n",
    "    #fname = \"out.png\"\n",
    "    fit_dir = 'A_%s_B_%s_kt_%s' % ((A), (B), (C))\n",
    "    image_name = prefix + fit_dir + '.png'\n",
    "    figure(figsize=[18.5,10])\n",
    "    #title(f\" B = {B}\")\n",
    "    #plot(data)\n",
    "    #savefig(fname)\n",
    "    close() # Avoid showing as an additional graph in jupyter\n",
    "    image_path = os.path.join(ce_fits_dir, fit_dir, image_name)\n",
    "    file = open(image_path, 'rb')\n",
    "    return file.read()\n",
    "\n",
    "def value_changed(value):\n",
    "    imagedata = ps.run_process(make_graph)\n",
    "    graph_buffer.data = imagedata\n",
    "\n",
    "A.register_callback(value_changed)\n",
    "B.register_callback(value_changed)\n",
    "C.register_callback(value_changed)"
   ]
  },
  {
   "cell_type": "code",
   "execution_count": 6,
   "metadata": {
    "scrolled": true
   },
   "outputs": [
    {
     "data": {
      "application/vnd.jupyter.widget-view+json": {
       "model_id": "e0232e3c8a48477cbf14ee56f9cbb542",
       "version_major": 2,
       "version_minor": 0
      },
      "text/plain": [
       "GridspecLayout(children=(Image(value=b'', height='400', layout=\"Layout(grid_area='widget001')\", width='300'), …"
      ]
     },
     "metadata": {},
     "output_type": "display_data"
    }
   ],
   "source": [
    "from ipywidgets import GridspecLayout\n",
    "grid = GridspecLayout(3, 2, height='400px')\n",
    "grid[:2, 1] = graph_buffer.interactive_widget()\n",
    "grid[0, 0] = A.interactive_widget()\n",
    "grid[1, 0] = B.interactive_widget()\n",
    "grid[2, 0] = C.interactive_widget()\n",
    "grid"
   ]
  },
  {
   "cell_type": "code",
   "execution_count": null,
   "metadata": {},
   "outputs": [],
   "source": []
  },
  {
   "cell_type": "code",
   "execution_count": null,
   "metadata": {},
   "outputs": [],
   "source": []
  },
  {
   "cell_type": "code",
   "execution_count": 7,
   "metadata": {},
   "outputs": [],
   "source": [
    "#ps.sweep(make_graph)"
   ]
  },
  {
   "cell_type": "code",
   "execution_count": 8,
   "metadata": {},
   "outputs": [],
   "source": [
    "#ps.set_current_path_template(\"%%A:ID%%/c_%%C%%\")"
   ]
  },
  {
   "cell_type": "code",
   "execution_count": 9,
   "metadata": {},
   "outputs": [],
   "source": [
    "#ps.get_current_relative_path()"
   ]
  },
  {
   "cell_type": "code",
   "execution_count": null,
   "metadata": {},
   "outputs": [],
   "source": []
  },
  {
   "cell_type": "code",
   "execution_count": 10,
   "metadata": {},
   "outputs": [],
   "source": [
    "#print(graph_buffer.data)"
   ]
  },
  {
   "cell_type": "code",
   "execution_count": null,
   "metadata": {},
   "outputs": [],
   "source": []
  }
 ],
 "metadata": {
  "kernelspec": {
   "display_name": "Python 3",
   "language": "python",
   "name": "python3"
  },
  "language_info": {
   "codemirror_mode": {
    "name": "ipython",
    "version": 3
   },
   "file_extension": ".py",
   "mimetype": "text/x-python",
   "name": "python",
   "nbconvert_exporter": "python",
   "pygments_lexer": "ipython3",
   "version": "3.7.10"
  }
 },
 "nbformat": 4,
 "nbformat_minor": 4
}
