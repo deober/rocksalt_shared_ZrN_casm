{
 "cells": [
  {
   "cell_type": "code",
   "execution_count": 1,
   "id": "83645c3e",
   "metadata": {},
   "outputs": [
    {
     "name": "stdout",
     "output_type": "stream",
     "text": [
      "Populating the interactive namespace from numpy and matplotlib\n"
     ]
    }
   ],
   "source": [
    "get_ipython().run_line_magic('pylab', 'inline')"
   ]
  },
  {
   "cell_type": "code",
   "execution_count": 2,
   "id": "b85b0ed4",
   "metadata": {},
   "outputs": [],
   "source": [
    "#from tinc import *\n",
    "import tinc\n",
    "import os\n",
    "import numpy as np\n",
    "import json"
   ]
  },
  {
   "cell_type": "code",
   "execution_count": 3,
   "id": "3d5b7967",
   "metadata": {},
   "outputs": [
    {
     "data": {
      "text/html": [
       "<style>.container { width:100% !important; }</style>"
      ],
      "text/plain": [
       "<IPython.core.display.HTML object>"
      ]
     },
     "metadata": {},
     "output_type": "display_data"
    }
   ],
   "source": [
    "#Enlarge the jupyter notebook so that plots are easier to see \n",
    "from IPython.core.display import display, HTML\n",
    "display(HTML(\"<style>.container { width:100% !important; }</style>\"))"
   ]
  },
  {
   "cell_type": "code",
   "execution_count": 4,
   "id": "a054d3ed",
   "metadata": {},
   "outputs": [],
   "source": [
    "A = tinc.Parameter(\"A\", \"weighting\")\n",
    "A.values = np.linspace(.1,2,3)\n",
    "\n",
    "B = tinc.Parameter(\"B\", \"weighting\")\n",
    "B.values = np.linspace(0,2,3)\n",
    "\n",
    "kT = tinc.Parameter(\"kT\", \"weighting\")\n",
    "kT.values = np.linspace(.01,.1,3)\n",
    "\n",
    "\n",
    "graph_buffer = tinc.DiskBufferImage(\"graph\", \"out.png\", \"graph_output\")"
   ]
  },
  {
   "cell_type": "code",
   "execution_count": 5,
   "id": "14891f8d",
   "metadata": {},
   "outputs": [
    {
     "name": "stdout",
     "output_type": "stream",
     "text": [
      "Validating json with /home/derick/anaconda3/envs/py37/lib/python3.7/site-packages/tinc/tinc_cache_schema.json\n"
     ]
    }
   ],
   "source": [
    "ps = tinc.ParameterSpace(\"ps\")\n",
    "ps.register_parameters([A, B, kT])\n",
    "ps.enable_cache()"
   ]
  },
  {
   "cell_type": "code",
   "execution_count": 6,
   "id": "f83005e5",
   "metadata": {},
   "outputs": [],
   "source": [
    "def make_graph(A, B, kT):\n",
    "    \n",
    "    vasp_scripts_dir = '/home/derick/vasp_scripts/'\n",
    "\n",
    "    \n",
    "    #Assumes that this notebook is running in a directory that contains your cluster expansion fits\n",
    "    #Requires that you have a \"training_set.txt\" file in the same directory as this notebook\n",
    "    ce_fit_dir = os.getcwd()\n",
    "    fitname = 'A_%s_B_%s_kt_%s' %(str(A), str(B), str(kT))\n",
    "    os.makedirs(fitname, exist_ok=True)\n",
    "    os.system('cp training_set.txt %s' % fitname)\n",
    "    \n",
    "    \n",
    "    \n",
    "    #Format template file\n",
    "    genetic_alg_input_template = os.path.join(vasp_scripts_dir,'templates', 'genetic_algorithm_settings_template.json')\n",
    "    with open(genetic_alg_input_template) as f:\n",
    "      genetic_alg_settings = json.load(f)\n",
    "      f.close()\n",
    "        \n",
    "    genetic_alg_settings['problem_specs']['weight']['kwargs']['A'] = A\n",
    "    genetic_alg_settings['problem_specs']['weight']['kwargs']['B'] = B\n",
    "    genetic_alg_settings['problem_specs']['weight']['kwargs']['kT'] = kT\n",
    "\n",
    "    \n",
    "    \n",
    "    with open(os.path.join(fitname, 'genetic_alg_settings.json'), 'w') as settings_file:\n",
    "        json.dump( genetic_alg_settings, settings_file, indent=4)\n",
    "        settings_file.close()\n",
    "    \n",
    "    \n",
    "    \n",
    "    #Run the fit\n",
    "    os.chdir(fitname)\n",
    "    print(\"Removing old data for individual 0\")\n",
    "    os.system('rm check.0; rm checkhull_genetic_alg_settings_0_*; rm genetic_alg_settings_*')\n",
    "    print(\"Running new fit\")\n",
    "    os.system('casm-learn -s genetic_alg_settings.json > fit.out')\n",
    "    print(\"Writing data for individual 0\")\n",
    "    os.system('casm-learn -s genetic_alg_settings.json --checkhull --indiv 0 > check.0')\n",
    "    \n",
    "    \n",
    "    \n",
    "    #Plot the fit results\n",
    "    os.system('python ~/vasp_scripts/plot_clex_hull_data_1.X.py `pwd` 0')\n",
    "    fit_dir = os.getcwd()\n",
    "    image_name = fit_dir.split('/')[-3] + '_' + fit_dir.split('/')[-1] + '.png'        \n",
    "    image_path = os.path.join(fit_dir,image_name)\n",
    "    \n",
    "    #return to the ce_fits directory    \n",
    "    os.chdir('../')\n",
    "    \n",
    "    image_file = open(image_path, 'rb')\n",
    "    return image_file.read()\n",
    "\n",
    "\n",
    "def cb(value):\n",
    "    print(value)\n",
    "\n",
    "def value_changed(value):\n",
    "    imagedata = ps.run_process(make_graph)\n",
    "    graph_buffer.data = imagedata\n",
    "\n",
    "A.register_callback(value_changed)\n",
    "B.register_callback(value_changed)\n",
    "kT.register_callback(value_changed)\n",
    "kT.register_callback(cb)"
   ]
  },
  {
   "cell_type": "code",
   "execution_count": 7,
   "id": "a30d8bb1",
   "metadata": {},
   "outputs": [
    {
     "name": "stdout",
     "output_type": "stream",
     "text": [
      "[0.1  1.05 2.  ] [0. 1. 2.] [0.01  0.055 0.1  ]\n"
     ]
    }
   ],
   "source": [
    "print(A.values,B.values,kT.values)"
   ]
  },
  {
   "cell_type": "code",
   "execution_count": 8,
   "id": "246ccff0",
   "metadata": {},
   "outputs": [],
   "source": [
    "ps.sweep(make_graph)"
   ]
  },
  {
   "cell_type": "markdown",
   "id": "56d51e98",
   "metadata": {},
   "source": [
    "#currently not using this display approach\n",
    "from ipywidgets import GridspecLayout\n",
    "grid = GridspecLayout(3, 2, height='300px')\n",
    "grid[:, 1] = graph_buffer.interactive_widget()\n",
    "grid[0, 0] = A.interactive_widget()\n",
    "grid[1, 0] = B.interactive_widget()\n",
    "grid[2, 0] = kT.interactive_widget()\n",
    "grid\n"
   ]
  },
  {
   "cell_type": "code",
   "execution_count": 9,
   "id": "595e0d8a",
   "metadata": {},
   "outputs": [
    {
     "data": {
      "application/vnd.jupyter.widget-view+json": {
       "model_id": "bbf35080107c4a32ab78b725af682b7d",
       "version_major": 2,
       "version_minor": 0
      },
      "text/plain": [
       "VBox(children=(interactive(children=(FloatSlider(value=0.1, description='A', max=2.0, min=0.1, step=0.95), Out…"
      ]
     },
     "metadata": {},
     "output_type": "display_data"
    }
   ],
   "source": [
    "from ipywidgets import Button, HBox, VBox\n",
    "\n",
    "box = VBox([A.interactive_widget(), B.interactive_widget(), kT.interactive_widget(), graph_buffer.interactive_widget()])\n",
    "graph_buffer._interactive_widget.width = \"100%\"\n",
    "box"
   ]
  }
 ],
 "metadata": {
  "kernelspec": {
   "display_name": "Python 3",
   "language": "python",
   "name": "python3"
  },
  "language_info": {
   "codemirror_mode": {
    "name": "ipython",
    "version": 3
   },
   "file_extension": ".py",
   "mimetype": "text/x-python",
   "name": "python",
   "nbconvert_exporter": "python",
   "pygments_lexer": "ipython3",
   "version": "3.7.10"
  }
 },
 "nbformat": 4,
 "nbformat_minor": 5
}
